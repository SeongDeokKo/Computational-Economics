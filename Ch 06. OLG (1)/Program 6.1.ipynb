{
 "cells": [
  {
   "cell_type": "markdown",
   "metadata": {},
   "source": [
    "<H1> Introduction to Computational Economics using Fortran\n",
    "\n",
    "<H5> Author : SeongDeok   \n",
    "    \n",
    "<H5> Chapter 6\n",
    "    \n",
    "<strong> Based on Fortran code"
   ]
  },
  {
   "cell_type": "code",
   "execution_count": 94,
   "metadata": {},
   "outputs": [],
   "source": [
    "using NLsolve\n",
    "using PrettyTables"
   ]
  },
  {
   "cell_type": "code",
   "execution_count": 45,
   "metadata": {},
   "outputs": [],
   "source": [
    "gamma = 0.5;\n",
    "egam = 1-1/gamma;\n",
    "beta = 0.9;\n",
    "alpha = 0.3;\n",
    "delta = 0.0;\n",
    "by = 0.0;\n",
    "kappa = 0.0;\n",
    "n_p = 0.2;\n",
    "tax = 1;\n",
    "g = [ 0.12, 0.12, 0.0 ];"
   ]
  },
  {
   "cell_type": "code",
   "execution_count": 49,
   "metadata": {},
   "outputs": [],
   "source": [
    "LL = ( 2 + n_p ) / ( 1 + n_p ) ;\n",
    "taup = kappa / ( 2 + n_p ) * ( 1 + n_p );\n",
    "tauc = 0 ; \n",
    "tauw = 0 ; \n",
    "taur = 0 ; "
   ]
  },
  {
   "cell_type": "code",
   "execution_count": 58,
   "metadata": {},
   "outputs": [
    {
     "data": {
      "text/plain": [
       "eqns (generic function with 1 method)"
      ]
     },
     "execution_count": 58,
     "metadata": {},
     "output_type": "execute_result"
    }
   ],
   "source": [
    "function eqns(x)\n",
    "    # copy values to respective variables\n",
    "    KK = x[1]\n",
    "    tauc, tauw, taur = 0, 0, 0; \n",
    "    if tax == 1\n",
    "        tauc = x[2]\n",
    "    elseif tax == 2 \n",
    "        tauw = x[2]\n",
    "        taur = x[2]\n",
    "    elseif tax == 3\n",
    "        tauw = x[2]\n",
    "    elseif tax > 3 \n",
    "        taur = x[2]\n",
    "    end\n",
    "\n",
    "    # factor prices and pension payments\n",
    "    r = alpha*(KK/LL)^(alpha-1)-delta\n",
    "    w = (1-alpha)*(KK/LL)^alpha\n",
    "    wn = w * (1-tauw-taup)\n",
    "    Rn = 1 + r*( 1 - taur )\n",
    "    p = 1 + tauc\n",
    "    pen = kappa*w\n",
    "\n",
    "    c = zeros(3) ;\n",
    "    a = zeros(3) ;\n",
    "    # individual decisions\n",
    "    PVI = wn + wn/Rn + pen/Rn^2\n",
    "    PSI = p*(1 + (beta*Rn)^gamma/Rn + (beta*Rn)^(2*gamma)/Rn^2)\n",
    "    c[1] = PVI/PSI\n",
    "    c[2] = (beta*Rn)^gamma*c[1]\n",
    "    c[3] = (beta*Rn)^gamma*c[2]\n",
    "    a[1] = 0\n",
    "    a[2] = wn - p*c[1]\n",
    "    a[3] = wn + Rn*a[2] - p*c[2]\n",
    "\n",
    "    # quantities\n",
    "    YY = KK^alpha * LL^(1-alpha)\n",
    "    CC = c[1] + c[2]/(1+n_p) + c[3]/(1+n_p)^2\n",
    "    GG = g[1] + g[2]/(1+n_p) + g[3]/(1+n_p)^2\n",
    "    AA = a[2] / (1 + n_p) + a[3]/(1+n_p)^2\n",
    "    II = (n_p+delta)*KK\n",
    "    BB = by*YY\n",
    "\n",
    "    #! get equations defining general equilibrium\n",
    "\n",
    "    return [KK + BB - AA , tauc*CC + tauw*w*LL + taur*r*AA - (r-n_p)*BB - GG ]\n",
    "end"
   ]
  },
  {
   "cell_type": "code",
   "execution_count": 60,
   "metadata": {},
   "outputs": [
    {
     "data": {
      "text/plain": [
       "Results of Nonlinear Solver Algorithm\n",
       " * Algorithm: Trust-region with dogleg and autoscaling\n",
       " * Starting Point: [0.7, 0.7]\n",
       " * Zero: [0.2702009065049483, 0.2901661053457654]\n",
       " * Inf-norm of residuals: 0.000000\n",
       " * Iterations: 4\n",
       " * Convergence: true\n",
       "   * |x - x'| < 0.0e+00: false\n",
       "   * |f(x)| < 1.0e-08: true\n",
       " * Function Calls (f): 5\n",
       " * Jacobian Calls (df/dx): 5"
      ]
     },
     "execution_count": 60,
     "metadata": {},
     "output_type": "execute_result"
    }
   ],
   "source": [
    "result = nlsolve(eqns, [0.7,0.7])"
   ]
  },
  {
   "cell_type": "code",
   "execution_count": 63,
   "metadata": {},
   "outputs": [
    {
     "data": {
      "text/plain": [
       "2-element Array{Float64,1}:\n",
       " 0.2702009065049483\n",
       " 0.2901661053457654"
      ]
     },
     "execution_count": 63,
     "metadata": {},
     "output_type": "execute_result"
    }
   ],
   "source": [
    "x = result.zero"
   ]
  },
  {
   "cell_type": "code",
   "execution_count": 64,
   "metadata": {},
   "outputs": [
    {
     "data": {
      "text/plain": [
       "0.0"
      ]
     },
     "execution_count": 64,
     "metadata": {},
     "output_type": "execute_result"
    }
   ],
   "source": [
    "KK = x[1]\n",
    "    tauc, tauw, taur = 0, 0, 0; \n",
    "    if tax == 1\n",
    "        tauc = x[2]\n",
    "    elseif tax == 2 \n",
    "        tauw = x[2]\n",
    "        taur = x[2]\n",
    "    elseif tax == 3\n",
    "        tauw = x[2]\n",
    "    elseif tax > 3 \n",
    "        taur = x[2]\n",
    "    end\n",
    "\n",
    "    # factor prices and pension payments\n",
    "    r = alpha*(KK/LL)^(alpha-1)-delta\n",
    "    w = (1-alpha)*(KK/LL)^alpha\n",
    "    wn = w * (1-tauw-taup)\n",
    "    Rn = 1 + r*( 1 - taur )\n",
    "    p = 1 + tauc\n",
    "    pen = kappa*w\n",
    "\n",
    "    c = zeros(3) ;\n",
    "    a = zeros(3) ;\n",
    "    # individual decisions\n",
    "    PVI = wn + wn/Rn + pen/Rn^2\n",
    "    PSI = p*(1 + (beta*Rn)^gamma/Rn + (beta*Rn)^(2*gamma)/Rn^2)\n",
    "    c[1] = PVI/PSI\n",
    "    c[2] = (beta*Rn)^gamma*c[1]\n",
    "    c[3] = (beta*Rn)^gamma*c[2]\n",
    "    a[1] = 0\n",
    "    a[2] = wn - p*c[1]\n",
    "    a[3] = wn + Rn*a[2] - p*c[2]\n",
    "\n",
    "    # quantities\n",
    "    YY = KK^alpha * LL^(1-alpha)\n",
    "    CC = c[1] + c[2]/(1+n_p) + c[3]/(1+n_p)^2\n",
    "    GG = g[1] + g[2]/(1+n_p) + g[3]/(1+n_p)^2\n",
    "    AA = a[2] / (1 + n_p) + a[3]/(1+n_p)^2\n",
    "    II = (n_p+delta)*KK\n",
    "    BB = by*YY"
   ]
  },
  {
   "cell_type": "code",
   "execution_count": 86,
   "metadata": {},
   "outputs": [
    {
     "data": {
      "text/plain": [
       "-9.540123060760344"
      ]
     },
     "execution_count": 86,
     "metadata": {},
     "output_type": "execute_result"
    }
   ],
   "source": [
    "sum(c.^egam ./ egam .* [1, beta, beta^2])"
   ]
  },
  {
   "cell_type": "code",
   "execution_count": 89,
   "metadata": {},
   "outputs": [],
   "source": [
    "util = 0\n",
    "for i in 1:3\n",
    "    util += beta^(i-1)*c[i]^egam/egam\n",
    "end"
   ]
  },
  {
   "cell_type": "code",
   "execution_count": 90,
   "metadata": {},
   "outputs": [
    {
     "data": {
      "text/plain": [
       "-9.540123060760344"
      ]
     },
     "execution_count": 90,
     "metadata": {},
     "output_type": "execute_result"
    }
   ],
   "source": [
    "util"
   ]
  },
  {
   "cell_type": "code",
   "execution_count": 84,
   "metadata": {},
   "outputs": [
    {
     "data": {
      "text/plain": [
       "0.81"
      ]
     },
     "execution_count": 84,
     "metadata": {},
     "output_type": "execute_result"
    }
   ],
   "source": [
    "beta^2"
   ]
  },
  {
   "cell_type": "code",
   "execution_count": 70,
   "metadata": {},
   "outputs": [
    {
     "data": {
      "text/plain": [
       "0.9"
      ]
     },
     "execution_count": 70,
     "metadata": {},
     "output_type": "execute_result"
    }
   ],
   "source": [
    "beta"
   ]
  },
  {
   "cell_type": "code",
   "execution_count": null,
   "metadata": {},
   "outputs": [],
   "source": [
    "d0\n",
    "    do j = 1, 3\n",
    "        util = util + beta**(j-1)*c(j)**egam/egam\n",
    "    enddo"
   ]
  }
 ],
 "metadata": {
  "kernelspec": {
   "display_name": "Julia 1.5.1",
   "language": "julia",
   "name": "julia-1.5"
  },
  "language_info": {
   "file_extension": ".jl",
   "mimetype": "application/julia",
   "name": "julia",
   "version": "1.5.1"
  }
 },
 "nbformat": 4,
 "nbformat_minor": 4
}
