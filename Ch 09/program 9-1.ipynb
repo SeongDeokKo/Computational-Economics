{
 "cells": [
  {
   "cell_type": "markdown",
   "metadata": {},
   "source": [
    "### Fortran 책 따라하기 "
   ]
  },
  {
   "cell_type": "code",
   "execution_count": 74,
   "metadata": {},
   "outputs": [],
   "source": [
    "using Dierckx\n",
    "using Roots"
   ]
  },
  {
   "cell_type": "code",
   "execution_count": 75,
   "metadata": {},
   "outputs": [],
   "source": [
    "# counter variables\n",
    "  gamma = 0.5\n",
    "    beta = 0.99\n",
    "    alpha = 0.40\n",
    "    delta = 0.019\n",
    "    k0 = 10\n",
    "    # numerical parameters\n",
    "    k_l = 5\n",
    "    k_u = 100\n",
    "    sig = 1e-6\n",
    "    itermax = 2000\n",
    "# time path of consumption and capital\n",
    "TT = 360 # Number of Time paths\n",
    "k0 = 15\n",
    "\n",
    "c_t = zeros(TT);\n",
    "l_t = zeros(TT);\n",
    "k_t = zeros(TT);\n",
    "eta_t = zeros(TT);\n",
    "r_t = zeros(TT);\n",
    "w_t = zeros(TT);\n",
    "i_t = zeros(TT);\n",
    "y_t = zeros(TT);\n",
    "is_t = zeros(TT);"
   ]
  },
  {
   "cell_type": "code",
   "execution_count": 76,
   "metadata": {},
   "outputs": [
    {
     "data": {
      "text/plain": [
       "foc (generic function with 1 method)"
      ]
     },
     "execution_count": 76,
     "metadata": {},
     "output_type": "execute_result"
    }
   ],
   "source": [
    "  # the first order condition\n",
    "function foc(x_in)\n",
    "    # x_in 으로 들어오는 것은 현재 period의 소비\n",
    "    # future capital\n",
    "    kplus = (1-delta)*k_com + k_com^alpha - x_in\n",
    "\n",
    "        # calculate future consumption\n",
    "    cplus = evaluate(spline,kplus)\n",
    "\n",
    "        # get first order condition\n",
    "    foc = x_in - (beta*(1+alpha*kplus^(alpha-1)-delta))^(-gamma)*cplus\n",
    "end \n"
   ]
  },
  {
   "cell_type": "code",
   "execution_count": 84,
   "metadata": {},
   "outputs": [],
   "source": [
    "NK = 1000\n",
    "k = range(k_l,k_u, length = NK) ;  \n",
    "c = k.^alpha - delta.*k ; # Consumption에 대한 초기값\n",
    "c_new = copy(c);"
   ]
  },
  {
   "cell_type": "code",
   "execution_count": 85,
   "metadata": {},
   "outputs": [
    {
     "name": "stdout",
     "output_type": "stream",
     "text": [
      "Iteration is 20 and error is 0.012747918210263887\n",
      "Iteration is 40 and error is 0.0043379186884160426\n",
      "Iteration is 60 and error is 0.002081047028928751\n",
      "Iteration is 80 and error is 0.0009366118280826896\n",
      "Iteration is 100 and error is 0.000400089058863351\n",
      "Iteration is 120 and error is 0.0001672457314265685\n",
      "Iteration is 140 and error is 6.933683151899572e-5\n",
      "Iteration is 160 and error is 2.8663712969390076e-5\n",
      "Iteration is 180 and error is 1.1840168987475863e-5\n",
      "Iteration is 200 and error is 4.890555779013539e-6\n",
      "Iteration is 220 and error is 2.02036053575938e-6\n",
      "  2.764199 seconds (24.35 M allocations: 736.735 MiB, 3.96% gc time)\n"
     ]
    }
   ],
   "source": [
    "@time begin\n",
    "# iterate until policy function converges\n",
    "for iter in 1:itermax\n",
    "\n",
    "        # interpolate coefficients\n",
    "    spline = Dierckx.Spline1D(k,c)\n",
    "\n",
    "        # calculate decisions for every gridpoint\n",
    "        for ik = 1:NK\n",
    "\n",
    "            # set starting value and communicate resource level\n",
    "            x_in = c[ik]\n",
    "            k_com = k[ik]\n",
    "\n",
    "            # find the optimal consumption level\n",
    "            x_in = try fzero(foc, x_in, order=:secant )\n",
    "            \n",
    "            catch x_in\n",
    "        \n",
    "        end\n",
    "            # get optimal consumption and value function\n",
    "            c_new[ik] = x_in\n",
    "        end\n",
    "\n",
    "        # get convergence level\n",
    "        con_lev = maximum(abs.(c_new - c))\n",
    "        if iter % 20 == 0\n",
    "            println(\"Iteration is $iter\",\" \", \"and error is $con_lev\")\n",
    "        end\n",
    "        # check for convergence\n",
    "        if con_lev < sig\n",
    "            break\n",
    "        end\n",
    "\n",
    "        c = copy(c_new)\n",
    "        if iter == itermax && con_lev > sig\n",
    "            println(\"no convergence\")\n",
    "        end\n",
    "    end\n",
    "end\n"
   ]
  },
  {
   "cell_type": "code",
   "execution_count": null,
   "metadata": {},
   "outputs": [],
   "source": []
  }
 ],
 "metadata": {
  "kernelspec": {
   "display_name": "Julia 1.5.1",
   "language": "julia",
   "name": "julia-1.5"
  },
  "language_info": {
   "file_extension": ".jl",
   "mimetype": "application/julia",
   "name": "julia",
   "version": "1.5.1"
  }
 },
 "nbformat": 4,
 "nbformat_minor": 4
}
